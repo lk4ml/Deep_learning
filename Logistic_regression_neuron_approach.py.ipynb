{
 "cells": [
  {
   "cell_type": "code",
   "execution_count": 1,
   "metadata": {
    "collapsed": true
   },
   "outputs": [],
   "source": [
    "import numpy as np"
   ]
  },
  {
   "cell_type": "code",
   "execution_count": 2,
   "metadata": {
    "collapsed": true
   },
   "outputs": [],
   "source": [
    "N=100\n",
    "D=2"
   ]
  },
  {
   "cell_type": "code",
   "execution_count": 3,
   "metadata": {
    "collapsed": true
   },
   "outputs": [],
   "source": [
    "x = np.random.rand(100,2)"
   ]
  },
  {
   "cell_type": "code",
   "execution_count": 4,
   "metadata": {
    "collapsed": true
   },
   "outputs": [],
   "source": [
    "ones = np.array([[1]*N]).T"
   ]
  },
  {
   "cell_type": "code",
   "execution_count": 9,
   "metadata": {
    "collapsed": false
   },
   "outputs": [],
   "source": [
    "xb=np.concatenate((ones,x),axis=1)"
   ]
  },
  {
   "cell_type": "code",
   "execution_count": 10,
   "metadata": {
    "collapsed": true
   },
   "outputs": [],
   "source": [
    "w=np.random.rand(D+1)"
   ]
  },
  {
   "cell_type": "code",
   "execution_count": 11,
   "metadata": {
    "collapsed": false
   },
   "outputs": [
    {
     "data": {
      "text/plain": [
       "array([ 0.27117976,  0.13934166,  0.89069795])"
      ]
     },
     "execution_count": 11,
     "metadata": {},
     "output_type": "execute_result"
    }
   ],
   "source": [
    "w"
   ]
  },
  {
   "cell_type": "code",
   "execution_count": 12,
   "metadata": {
    "collapsed": true
   },
   "outputs": [],
   "source": [
    "z=xb.dot(w)"
   ]
  },
  {
   "cell_type": "code",
   "execution_count": 37,
   "metadata": {
    "collapsed": false
   },
   "outputs": [
    {
     "name": "stdout",
     "output_type": "stream",
     "text": [
      "[ 0.74275187  0.76188425  0.69511382  0.7732033   0.69141992  0.60337626\n",
      "  0.64409104  0.65564046  0.69181183  0.65028541  0.75867022  0.60128183\n",
      "  0.68335706  0.73856382  0.73663439  0.66608943  0.63173532  0.74651095\n",
      "  0.68299253  0.66081944  0.62122669  0.64280151  0.72066447  0.58460387\n",
      "  0.70163559  0.62696023  0.71246655  0.61923588  0.70139671  0.66560046\n",
      "  0.75820042  0.62185234  0.7337407   0.72772306  0.69619386  0.6877816\n",
      "  0.70289191  0.75718647  0.63805681  0.74853589  0.7555628   0.73895753\n",
      "  0.66412219  0.68131141  0.75708737  0.69306952  0.64079875  0.64017651\n",
      "  0.73356349  0.64182737  0.75271535  0.66337454  0.7536586   0.65258949\n",
      "  0.71302086  0.66118494  0.72181333  0.60820711  0.66617695  0.63761182\n",
      "  0.74959006  0.68027262  0.62241115  0.73017839  0.73625863  0.74360263\n",
      "  0.64875653  0.74235309  0.5903013   0.76811043  0.75112261  0.7422403\n",
      "  0.73602828  0.70572464  0.77402791  0.65419601  0.67304841  0.74692917\n",
      "  0.61975569  0.60030489  0.76445059  0.77655411  0.7150995   0.77246984\n",
      "  0.74899519  0.69454837  0.60864778  0.59931103  0.72871587  0.73478365\n",
      "  0.66218817  0.60391939  0.72058439  0.64911951  0.68832217  0.65542968\n",
      "  0.75133305  0.60104339  0.70360505  0.69574655]\n"
     ]
    }
   ],
   "source": [
    "\n",
    "def sigmoid(z):\n",
    "    B= 1/(1+ np.exp(-z))\n",
    "    return B\n",
    "\n",
    "print(sigmoid(z))\n"
   ]
  },
  {
   "cell_type": "code",
   "execution_count": null,
   "metadata": {
    "collapsed": true
   },
   "outputs": [],
   "source": []
  }
 ],
 "metadata": {
  "kernelspec": {
   "display_name": "Python [conda root]",
   "language": "python",
   "name": "conda-root-py"
  },
  "language_info": {
   "codemirror_mode": {
    "name": "ipython",
    "version": 2
   },
   "file_extension": ".py",
   "mimetype": "text/x-python",
   "name": "python",
   "nbconvert_exporter": "python",
   "pygments_lexer": "ipython2",
   "version": "2.7.12"
  }
 },
 "nbformat": 4,
 "nbformat_minor": 1
}
